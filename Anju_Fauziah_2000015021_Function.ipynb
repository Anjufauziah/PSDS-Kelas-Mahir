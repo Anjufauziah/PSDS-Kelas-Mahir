{
  "nbformat": 4,
  "nbformat_minor": 0,
  "metadata": {
    "colab": {
      "name": "Anju_Fauziah_2000015021_Function.ipynb",
      "provenance": []
    },
    "kernelspec": {
      "name": "python3",
      "display_name": "Python 3"
    },
    "language_info": {
      "name": "python"
    }
  },
  "cells": [
    {
      "cell_type": "markdown",
      "metadata": {
        "id": "96ZX1F3Kz3z-"
      },
      "source": [
        "#Pembuka"
      ]
    },
    {
      "cell_type": "markdown",
      "metadata": {
        "id": "KzVQI8i3z8Fi"
      },
      "source": [
        "Assalamu'alaikum warahmatullahi wabarakatuh. Puji syukur kehadirat Allah Subhana Wata'ala atas limpahan\n",
        "Rahmat dan HidayahNya kepada kita semua. Sholawat serta salam senantiasa tercurah limpahkan kepada\n",
        "baginda Muhammad Rasulullah Salallahualaihiwassalam.\n",
        "Halo para **Pejuang Data**. Selamat berjumpa di pertemuan pertama Program Training **Algoritma Machine Learning** Kelas Mahir.\n",
        "Pada pertemuan ini kamu akan belajar:\n",
        "* Fungsi Pada Python\n",
        "* Keyword & Argument\n",
        "* Membuat Fungsi Pada Python\n",
        "* Positional Argument & Keyword\n",
        "* Argument Default\n",
        "* Contoh User Defined Function\n",
        "* Latihan\n",
        "\n",
        "\n",
        "\n",
        "\n",
        "\n",
        "\n",
        "\n"
      ]
    },
    {
      "cell_type": "markdown",
      "metadata": {
        "id": "DoMDe4fZ1QfK"
      },
      "source": [
        "#Function"
      ]
    },
    {
      "cell_type": "markdown",
      "metadata": {
        "id": "GM_qsCYT2EKW"
      },
      "source": [
        "Function adalah sebuah blok statemen yang hanya akan dijalankan saat ia dipanggil!"
      ]
    },
    {
      "cell_type": "code",
      "metadata": {
        "colab": {
          "base_uri": "https://localhost:8080/"
        },
        "id": "J7kvF2g72MX5",
        "outputId": "d2c78dce-c2f4-4203-d047-b282ac118e7d"
      },
      "source": [
        "genap = [2,4,6,8,10]\n",
        "\n",
        "len(genap)"
      ],
      "execution_count": null,
      "outputs": [
        {
          "output_type": "execute_result",
          "data": {
            "text/plain": [
              "5"
            ]
          },
          "metadata": {},
          "execution_count": 1
        }
      ]
    },
    {
      "cell_type": "code",
      "metadata": {
        "colab": {
          "base_uri": "https://localhost:8080/"
        },
        "id": "mIFPyFgi2jYE",
        "outputId": "c258412c-4f20-418a-d20b-7f9ead6124c1"
      },
      "source": [
        "print('Assalamualaikum Dunia')"
      ],
      "execution_count": null,
      "outputs": [
        {
          "output_type": "stream",
          "name": "stdout",
          "text": [
            "Assalamualaikum Dunia\n"
          ]
        }
      ]
    },
    {
      "cell_type": "markdown",
      "metadata": {
        "id": "b2nfTtPa3NuS"
      },
      "source": [
        "#Keyword & Argument!"
      ]
    },
    {
      "cell_type": "markdown",
      "metadata": {
        "id": "feTkdkzm4AOB"
      },
      "source": [
        "**Keyword/Parameter** : variable yang digunakan dalam deklarasi fungsi\n",
        "\n",
        "**Argument** :nilai yang diberikan saat pemanggilan fungsi"
      ]
    },
    {
      "cell_type": "code",
      "metadata": {
        "colab": {
          "base_uri": "https://localhost:8080/"
        },
        "id": "kmU9i4414L-8",
        "outputId": "61d47486-90f4-4ecc-ac0b-445c7378359b"
      },
      "source": [
        "# sep = keyword/argument\n",
        "# '-' = argument\n",
        "\n",
        "print('kata1', 'kata2', sep='/')"
      ],
      "execution_count": null,
      "outputs": [
        {
          "output_type": "stream",
          "name": "stdout",
          "text": [
            "kata1/kata2\n"
          ]
        }
      ]
    },
    {
      "cell_type": "markdown",
      "metadata": {
        "id": "TpwIQ5ac40t5"
      },
      "source": [
        "#Membuat Fungsi"
      ]
    },
    {
      "cell_type": "markdown",
      "metadata": {
        "id": "oCC-2O3c43eE"
      },
      "source": [
        "Python mengizinkan untuk mendeklarasikan fungsi dalam kode yang dituliskan yang dikenal dengan **user defined function.**"
      ]
    },
    {
      "cell_type": "code",
      "metadata": {
        "id": "FnI2JL_t40Ow"
      },
      "source": [
        "def nama_fungsi (argument):\n",
        "  pernyataan_1\n",
        "  ...\n",
        "  pernyataan_n\n",
        "  return nilai_keluaran"
      ],
      "execution_count": null,
      "outputs": []
    },
    {
      "cell_type": "code",
      "metadata": {
        "id": "2Locrt4I5USC"
      },
      "source": [
        "# Pendefinisian fungsi_kuadrat\n",
        "def fungsi_kuadrat(x):\n",
        "  hasil = x**2\n",
        "  return hasil"
      ],
      "execution_count": null,
      "outputs": []
    },
    {
      "cell_type": "code",
      "metadata": {
        "id": "Vh7BcLYQ5fKa"
      },
      "source": [
        "# Alternatif pendefinisian fungsi_kuadrat\n",
        "def fungsi_kuadrat(x):\n",
        "  return x**2"
      ],
      "execution_count": null,
      "outputs": []
    },
    {
      "cell_type": "code",
      "metadata": {
        "colab": {
          "base_uri": "https://localhost:8080/"
        },
        "id": "l4z_exJj6YL4",
        "outputId": "feef1ed6-c85c-4607-e1c8-4a9942a47956"
      },
      "source": [
        "# Pemanggilan fungsi_kuadrat\n",
        "fungsi_kuadrat(6)"
      ],
      "execution_count": null,
      "outputs": [
        {
          "output_type": "execute_result",
          "data": {
            "text/plain": [
              "36"
            ]
          },
          "metadata": {},
          "execution_count": 9
        }
      ]
    },
    {
      "cell_type": "markdown",
      "metadata": {
        "id": "kFR6QEJv6r8K"
      },
      "source": [
        "#Positional Argument & Keyword"
      ]
    },
    {
      "cell_type": "markdown",
      "metadata": {
        "id": "2CKUr6wW6yS3"
      },
      "source": [
        "Kita bisa menyatakan argumen sebagai positional argument atau keyword. Beberapa manfaat argumen kata kunci dapat berupa:\n",
        "\n",
        "\n",
        "* Kita dapat menyebut argumen dengan nama mereka untuk memperjelas apa yang mereka wakili\n",
        "* Kita dapat mengatur ulang argumen dengan cara yang membuatnya paling mudah dibaca\n",
        "\n"
      ]
    },
    {
      "cell_type": "code",
      "metadata": {
        "id": "g2Gx4eZV9G_p"
      },
      "source": [
        "# Mendefinisikan fungsi dengan beberapa argumen\n",
        "def tampilkan_kata(a, b, c):\n",
        "  print(a, b, c)"
      ],
      "execution_count": null,
      "outputs": []
    },
    {
      "cell_type": "code",
      "metadata": {
        "colab": {
          "base_uri": "https://localhost:8080/"
        },
        "id": "OoVNXsPe9VEx",
        "outputId": "b657a122-c6fb-4ed8-c164-69a5fdeace7a"
      },
      "source": [
        "# Positional Arguments\n",
        "tampilkan_kata('aku', 'kau', 'dia')"
      ],
      "execution_count": null,
      "outputs": [
        {
          "output_type": "stream",
          "name": "stdout",
          "text": [
            "aku kau dia\n"
          ]
        }
      ]
    },
    {
      "cell_type": "code",
      "metadata": {
        "colab": {
          "base_uri": "https://localhost:8080/"
        },
        "id": "s0oFeZOh9mc2",
        "outputId": "86fc1473-b3d8-4b4b-bbe3-f4c28d436e8d"
      },
      "source": [
        "# Argumen berdasarkan keyword-nya\n",
        "tampilkan_kata(a='aku', b='kau', c='dia')\n",
        "tampilkan_kata(c='dia', b='kau', a='aku')"
      ],
      "execution_count": null,
      "outputs": [
        {
          "output_type": "stream",
          "name": "stdout",
          "text": [
            "aku kau dia\n",
            "aku kau dia\n"
          ]
        }
      ]
    },
    {
      "cell_type": "markdown",
      "metadata": {
        "id": "f-K1tU4K-nIl"
      },
      "source": [
        "Catatan: jika sudah diberi kunci maka urutan tidak menjadi penting"
      ]
    },
    {
      "cell_type": "code",
      "metadata": {
        "colab": {
          "base_uri": "https://localhost:8080/"
        },
        "id": "FG3lF8y1-u42",
        "outputId": "118bc62e-b422-4ee2-eff3-5ce7ef0f9edb"
      },
      "source": [
        "# Campuran antara argumen posisi dan argumen kata kunci\n",
        "tampilkan_kata('aku', b='kau', c='dia')"
      ],
      "execution_count": null,
      "outputs": [
        {
          "output_type": "stream",
          "name": "stdout",
          "text": [
            "aku kau dia\n"
          ]
        }
      ]
    },
    {
      "cell_type": "markdown",
      "metadata": {
        "id": "S7FTIOqV-7cK"
      },
      "source": [
        "**Ini tidak diizinkan:**\n",
        "\n",
        "\n",
        "* Positional argument setelah keyword argument\n",
        "      tampilkan_kata('aku', b='kau', c='dia')\n",
        "* Terdapat dua nilai untuk satu keyword argument yang sama\n",
        "      tampilkan_kata(1, b=2, a=3)\n",
        "\n"
      ]
    },
    {
      "cell_type": "markdown",
      "metadata": {
        "id": "hBGKQ2hO_cb0"
      },
      "source": [
        "#Argument Default"
      ]
    },
    {
      "cell_type": "markdown",
      "metadata": {
        "id": "Sv9KN_-a_kSh"
      },
      "source": [
        "Fungsi dapat memiliki argumen default dengan nilai yang telah ditentukan sebelumnya. Argumen ini dapat\n",
        "ditinggalkan dan nilai default kemudian diteruskan ke fungsi, atau argumen dapat dirubah dengan nilai yang\n",
        "berbeda. Perhatikan bahwa argumen default harus ditentukan sebagai **parameter terakhir** dalam suatu fungsi."
      ]
    },
    {
      "cell_type": "code",
      "metadata": {
        "colab": {
          "base_uri": "https://localhost:8080/"
        },
        "id": "pvweptwY_qwR",
        "outputId": "bef2dda7-0217-4ced-d7d3-bd0fabfce7e7"
      },
      "source": [
        "# Argumen default\n",
        "def tampilkan_kata(a, b, c, d='sahabat'):\n",
        "  print(a, b, c, d)\n",
        "\n",
        "tampilkan_kata('aku', 'kau', 'dia')\n",
        "tampilkan_kata('aku', b='kau', c='dia', d='teman')"
      ],
      "execution_count": null,
      "outputs": [
        {
          "output_type": "stream",
          "name": "stdout",
          "text": [
            "aku kau dia sahabat\n",
            "aku kau dia teman\n"
          ]
        }
      ]
    },
    {
      "cell_type": "markdown",
      "metadata": {
        "id": "gEd2wK0BK20t"
      },
      "source": [
        "Catatan: Argumen default harus diletakkan terakhir"
      ]
    },
    {
      "cell_type": "markdown",
      "metadata": {
        "id": "qixyaNPlK8li"
      },
      "source": [
        "#Contoh User Defined Function"
      ]
    },
    {
      "cell_type": "markdown",
      "metadata": {
        "id": "Kvf3uKO1LAZ-"
      },
      "source": [
        "**Contoh 1:**\n",
        "Penjumlahan 2 bilangan"
      ]
    },
    {
      "cell_type": "code",
      "metadata": {
        "colab": {
          "base_uri": "https://localhost:8080/"
        },
        "id": "EMXXtRZyLIu6",
        "outputId": "3178a8d1-f27a-459e-d408-dd203c9438de"
      },
      "source": [
        "def penjumlahan(x, y):  # input\n",
        "  a=x+y                 # proses\n",
        "  return a              # output\n",
        "\n",
        "penjumlahan(1, 2)       # pemanggilan fungsi"
      ],
      "execution_count": null,
      "outputs": [
        {
          "output_type": "execute_result",
          "data": {
            "text/plain": [
              "3"
            ]
          },
          "metadata": {},
          "execution_count": 15
        }
      ]
    },
    {
      "cell_type": "markdown",
      "metadata": {
        "id": "NNKRRy0HWiZ7"
      },
      "source": [
        "**Contoh 2:**\n",
        "Penjumlahan yang memungkinkan untuk tiga bilangan"
      ]
    },
    {
      "cell_type": "code",
      "metadata": {
        "colab": {
          "base_uri": "https://localhost:8080/"
        },
        "id": "10usR9JtWu5o",
        "outputId": "4c5f4176-e679-4d0b-aed1-7db961e6d2ab"
      },
      "source": [
        "def penjumlahan(x,y,z=None):\n",
        "  if (z==None):\n",
        "    return x+y\n",
        "  else:\n",
        "    return x+y+z\n",
        "\n",
        "print(penjumlahan(1, 2))\n",
        "print(penjumlahan(1,2,3))"
      ],
      "execution_count": null,
      "outputs": [
        {
          "output_type": "stream",
          "name": "stdout",
          "text": [
            "3\n",
            "6\n"
          ]
        }
      ]
    },
    {
      "cell_type": "markdown",
      "metadata": {
        "id": "c2upaRQ1Xi9X"
      },
      "source": [
        "**Contoh 3:**\n",
        "\n",
        "Menghitung luas dan keliling persegi"
      ]
    },
    {
      "cell_type": "code",
      "metadata": {
        "id": "qn6q5f3rXqrz"
      },
      "source": [
        "Menghitung luas dan keliling persegi"
      ],
      "execution_count": null,
      "outputs": []
    },
    {
      "cell_type": "code",
      "metadata": {
        "colab": {
          "base_uri": "https://localhost:8080/"
        },
        "id": "G2p2WSV_d6e6",
        "outputId": "9cf72022-243c-4da7-811e-97246a5014df"
      },
      "source": [
        "def luas_dan_keliling_persegi(s):\n",
        "  luas = s**2\n",
        "  keliling = 4*s\n",
        "  return luas, keliling\n",
        "\n",
        "luas, keliling = luas_dan_keliling_persegi(2)\n",
        "print('luas:', luas)\n",
        "print('keliling:', keliling)"
      ],
      "execution_count": null,
      "outputs": [
        {
          "output_type": "stream",
          "name": "stdout",
          "text": [
            "luas: 4\n",
            "keliling: 8\n"
          ]
        }
      ]
    },
    {
      "cell_type": "markdown",
      "metadata": {
        "id": "9SsH1xDeeZpb"
      },
      "source": [
        "#Latihan"
      ]
    },
    {
      "cell_type": "markdown",
      "metadata": {
        "id": "6vxlJd4Zeb_E"
      },
      "source": [
        "1. Buatlah sebuah fungsi untuk menghitung luas dan keliling lingkaran dengan input jari-jari!"
      ]
    },
    {
      "cell_type": "code",
      "metadata": {
        "colab": {
          "base_uri": "https://localhost:8080/"
        },
        "id": "TXErcrRnemqD",
        "outputId": "1b03570c-cab7-484c-b60f-d0ae6bfc8540"
      },
      "source": [
        "def luas_dan_keliling_lingkaran(r):\n",
        "  luas_lingkaran = 3.14*r*r\n",
        "  keliling_lingkaran = 2*3.14*r\n",
        "  return luas_lingkaran\n",
        "  return keliling_lingkaran\n",
        "\n",
        "luas_lingkaran = luas_dan_keliling_lingkaran(100)\n",
        "keliling_lingkaran = luas_dan_keliling_lingkaran(20)\n",
        "print('Luas lingkaran:', luas_lingkaran)\n",
        "print('Keliling lingkaran:', keliling_lingkaran)"
      ],
      "execution_count": null,
      "outputs": [
        {
          "output_type": "stream",
          "name": "stdout",
          "text": [
            "Luas lingkaran: 31400.0\n",
            "Keliling lingkaran: 1256.0\n"
          ]
        }
      ]
    },
    {
      "cell_type": "markdown",
      "metadata": {
        "id": "MFBXUUQzhWuz"
      },
      "source": [
        "2. Buatlah sebuah fungsi untuk menggabungkan dua kata dalam bentuk string bebas menjadi satu kata tanpa\n",
        "spasi dengan huruf kecil"
      ]
    },
    {
      "cell_type": "markdown",
      "metadata": {
        "id": "-wOpP61yhYZZ"
      },
      "source": [
        "Contoh:\n",
        "\n",
        "    gabung_kata('TANGKUBAN', 'PeRaHu')\n",
        "Output:\n",
        "\n",
        "```python 'tangkubanperahu'"
      ]
    },
    {
      "cell_type": "code",
      "metadata": {
        "colab": {
          "base_uri": "https://localhost:8080/"
        },
        "id": "feakbeFjiVDv",
        "outputId": "c8ad8e9d-07de-46c6-a1bd-e54f0b1217f4"
      },
      "source": [
        "print('tangkuban', 'perahu', sep='')"
      ],
      "execution_count": null,
      "outputs": [
        {
          "output_type": "stream",
          "name": "stdout",
          "text": [
            "tangkubanperahu\n"
          ]
        }
      ]
    },
    {
      "cell_type": "code",
      "metadata": {
        "id": "pvkYMR0th2Jj"
      },
      "source": [
        "3. Buatlah sebuah fungsi awal_akhir(list_input) untuk menukar elemen pertama pada sebuah list\n",
        "dengan elemen terakhir pada list yang sama!"
      ],
      "execution_count": null,
      "outputs": []
    },
    {
      "cell_type": "markdown",
      "metadata": {
        "id": "TY_6rAxOiCDr"
      },
      "source": [
        "Contoh:\n",
        "\n",
        "awal_akhir([1,2,3,4])\n",
        "\n",
        "Output:\n",
        "\n",
        "```python [4,2,3,1]"
      ]
    },
    {
      "cell_type": "code",
      "metadata": {
        "id": "hDB1VstgiO8G",
        "colab": {
          "base_uri": "https://localhost:8080/"
        },
        "outputId": "14b3951f-f3d1-47b5-cb9e-f3e6f0edcb46"
      },
      "source": [
        "def awal_akhir(a, b, c, d):\n",
        "  print(d, b, c, a)\n",
        "awal_akhir(1, 2, 3, 4)"
      ],
      "execution_count": 3,
      "outputs": [
        {
          "output_type": "stream",
          "name": "stdout",
          "text": [
            "4 2 3 1\n"
          ]
        }
      ]
    }
  ]
}