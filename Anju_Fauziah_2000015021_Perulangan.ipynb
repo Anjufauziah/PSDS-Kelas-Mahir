{
  "nbformat": 4,
  "nbformat_minor": 0,
  "metadata": {
    "colab": {
      "name": "Anju_Fauziah_2000015021_Perulangan.ipynb",
      "provenance": []
    },
    "kernelspec": {
      "name": "python3",
      "display_name": "Python 3"
    },
    "language_info": {
      "name": "python"
    }
  },
  "cells": [
    {
      "cell_type": "markdown",
      "metadata": {
        "id": "zxqViUfWzAcB"
      },
      "source": [
        "#Pembuka"
      ]
    },
    {
      "cell_type": "markdown",
      "metadata": {
        "id": "VayAJO2ezDJ8"
      },
      "source": [
        "Assalamu'alaikum warahmatullahi wabarakatuh. Puji syukur kehadirat Allah Subhana Wata'ala atas limpahan\n",
        "Rahmat dan HidayahNya kepada kita semua. Sholawat serta salam senantiasa tercurah limpahkan kepada\n",
        "baginda Muhammad Rasulullah Salallahualaihiwassalam.\n",
        "\n",
        "Halo para **Pejuang Data**. Selamat berjumpa di pertemuan kedua Program Training **Algoritma Machine\n",
        "Learning** Kelas Mahir.\n",
        "\n",
        "Pada pertemuan ini kamu akan belajar:\n",
        "\n",
        "* Looping/Perulangan\n",
        "* For Loop\n",
        "* While Loop\n",
        "* Contoh Perulangan\n",
        "* Latihan\n",
        "\n"
      ]
    },
    {
      "cell_type": "markdown",
      "metadata": {
        "id": "hpgxuzX3zo3c"
      },
      "source": [
        "#Looping/Perulangan"
      ]
    },
    {
      "cell_type": "markdown",
      "metadata": {
        "id": "XLNGVtcQzsrr"
      },
      "source": [
        "Python menyediakan dua statement untuk melakukan proses perulangan yaitu for dan while. Diantara kedua\n",
        "statement ini, secara umum for lebih banyak digunakan daripada while."
      ]
    },
    {
      "cell_type": "markdown",
      "metadata": {
        "id": "lRL1ItHGz0GR"
      },
      "source": [
        "#For Loop"
      ]
    },
    {
      "cell_type": "code",
      "metadata": {
        "id": "wGw-6mrSy2yL"
      },
      "source": [
        "Perulangan for digunakan untuk melakukan iterasi di dalam sequence seperti list , tuple , string ,\n",
        "dan array atau objek yang dapat diiterasi lainnya."
      ],
      "execution_count": null,
      "outputs": []
    },
    {
      "cell_type": "markdown",
      "metadata": {
        "id": "MfpzNGQ10KoW"
      },
      "source": [
        "##For Loop Syntax"
      ]
    },
    {
      "cell_type": "code",
      "metadata": {
        "id": "0IsHITvh0Nws"
      },
      "source": [
        "for val in sequence:\n",
        "  loop body"
      ],
      "execution_count": null,
      "outputs": []
    },
    {
      "cell_type": "markdown",
      "metadata": {
        "id": "T_UV7Wg20bl8"
      },
      "source": [
        "Pada proses iterasi ini, val adalah variabel yang diambil dari elemen-elemen di dalam sequence untuk\n",
        "setiap iterasi.\n",
        "\n",
        "Perulangan akan berlangsung hingga elemen terakhir dari sequence . Pada bagian body dari for loop\n",
        "diletakkan dalam indentasi."
      ]
    },
    {
      "cell_type": "markdown",
      "metadata": {
        "id": "45KYJy4q25b9"
      },
      "source": [
        "##Example: Python for Loop"
      ]
    },
    {
      "cell_type": "code",
      "metadata": {
        "colab": {
          "base_uri": "https://localhost:8080/"
        },
        "id": "a5zQnCFO3IzI",
        "outputId": "a28cf5fd-29f1-4c86-9e4e-ed7670d74c99"
      },
      "source": [
        "# Program untuk menghitung jumlah semua angka dalam sebuah list\n",
        "\n",
        "# list angka\n",
        "list_angka = [6, 5, 3, 8, 4, 2, 5, 4, 11]\n",
        "\n",
        "# variabel untuk menyimpan hasil penjumlahan\n",
        "jumlahan = 0\n",
        "\n",
        "# iterasi di dalam list\n",
        "for angka in list_angka:\n",
        "  jumlahan = jumlahan+angka\n",
        "\n",
        "print('Jumlah :', jumlahan)"
      ],
      "execution_count": null,
      "outputs": [
        {
          "output_type": "stream",
          "name": "stdout",
          "text": [
            "Jumlah : 48\n"
          ]
        }
      ]
    },
    {
      "cell_type": "markdown",
      "metadata": {
        "id": "buPbQVQO3rjy"
      },
      "source": [
        "##The range() function"
      ]
    },
    {
      "cell_type": "markdown",
      "metadata": {
        "id": "9Nun0Cxw3wHq"
      },
      "source": [
        "Kita dapat membuat sebuah sequence angka menggunakan fungsi range() . range(10) akan\n",
        "menghasilkan sequence angka dari 0 sampai 9(10 angka).\n",
        "\n",
        "Kita juga dapat mendefinisikan nilai awal, nilai akhir dan step sizenya yaitu range(start, stp, step_size)\n",
        ". Secara default step_size bernilai 1 jika tidak ditentukan secara khusus.\n",
        "\n",
        "Kita dapat menggunakan fungsi range() di dalam perulangan for untuk melakukan iterasi di dalam\n",
        "sequence numbers . Ini dapat kita kombinasikan dengan fungsi len() untuk melakukan iterasi melalui index\n",
        "dari sebuah sequence . Berikut contohnya:"
      ]
    },
    {
      "cell_type": "code",
      "metadata": {
        "colab": {
          "base_uri": "https://localhost:8080/"
        },
        "id": "jSrDflze3_xL",
        "outputId": "e983833d-7a66-445c-bd71-d9d0cd3f98ee"
      },
      "source": [
        "# Program untuk melakukan iterasi di dalam list melalui indeks\n",
        "\n",
        "musik = ['dangdut', 'campursari', 'keroncong']\n",
        "\n",
        "# iterasi di dalam  list melalui indeks\n",
        "for i in range(len(musik)):\n",
        "  print(\"Aku suka\", musik[i])"
      ],
      "execution_count": null,
      "outputs": [
        {
          "output_type": "stream",
          "name": "stdout",
          "text": [
            "Aku suka dangdut\n",
            "Aku suka campursari\n",
            "Aku suka keroncong\n"
          ]
        }
      ]
    },
    {
      "cell_type": "markdown",
      "metadata": {
        "id": "lqsz9sWi4bMT"
      },
      "source": [
        "##for loop with else"
      ]
    },
    {
      "cell_type": "markdown",
      "metadata": {
        "id": "45tS_gu64dxZ"
      },
      "source": [
        "Sebuah for loop dapat memiliki opsi blok else . Blok else akan dijalankan jika iterasi telah selesai\n",
        "dilakukan dalam sebuah sequence.\n",
        "\n",
        "Keyword break digunakan untuk menghentikan iterasi. Dalam kasus itu maka bagian else diabaikan.\n",
        "\n",
        "Sehingga, bagian iterasi else hanya dijalankan jika tidak terjadi break.\n",
        "\n",
        "Berikut adalah beberapa contoh sebagai ilustrasi:"
      ]
    },
    {
      "cell_type": "code",
      "metadata": {
        "colab": {
          "base_uri": "https://localhost:8080/"
        },
        "id": "4HaJryna4l1U",
        "outputId": "211a1492-cab4-463e-a553-6563de1ac79a"
      },
      "source": [
        "digits = [0, 1, 5]\n",
        "for i in digits:\n",
        "  print(i)\n",
        "else:\n",
        "  print(\"Tidak ada elemen yang tersisa.\")"
      ],
      "execution_count": null,
      "outputs": [
        {
          "output_type": "stream",
          "name": "stdout",
          "text": [
            "0\n",
            "1\n",
            "5\n",
            "Tidak ada elemen yang tersisa.\n"
          ]
        }
      ]
    },
    {
      "cell_type": "markdown",
      "metadata": {
        "id": "tP-rFqr04zyG"
      },
      "source": [
        "Ketika iterasi berjalan maka akan dilakukan print item hingga iterasi selesai. Ketika iterasi pada sequence\n",
        "selesai baru perintah pada blok else dijalankan yaitu print Tidak ada elemen yang tersisa.\n",
        "\n",
        "Statement for ... else dapat digunakan bersama dengan keyword break untuk menjalankan blok else\n",
        "hanya ketika break tidak dieksekusi. Lihat contoh berikut:"
      ]
    },
    {
      "cell_type": "code",
      "metadata": {
        "colab": {
          "base_uri": "https://localhost:8080/"
        },
        "id": "L2zqxpzT44io",
        "outputId": "f7d23fdf-3574-47b7-c363-1b0d646b99b0"
      },
      "source": [
        "# Program untuk menampilkan nilai tugas siswa.\n",
        "nama_siswa = 'Butet'\n",
        "\n",
        "daftar_nilai = {'Bambang': 90, 'Andri': 55, \"Candra\": 77}\n",
        "\n",
        "for siswa in daftar_nilai:\n",
        "  if siswa == nama_siswa:\n",
        "    print(daftar_nilai[siswa])\n",
        "    break\n",
        "else:\n",
        "  print('Tidak ada data nilai atas nama', nama_siswa,'!')"
      ],
      "execution_count": null,
      "outputs": [
        {
          "output_type": "stream",
          "name": "stdout",
          "text": [
            "Tidak ada data nilai atas nama Butet !\n"
          ]
        }
      ]
    },
    {
      "cell_type": "markdown",
      "metadata": {
        "id": "uzeyfpZI5fVs"
      },
      "source": [
        "#While Loop"
      ]
    },
    {
      "cell_type": "markdown",
      "metadata": {
        "id": "ttLL0CoP5h4_"
      },
      "source": [
        "While loop pada Python digunakan untuk melakukan iterasi pada blok kode selama nilai dari test\n",
        "expression adalah true.\n",
        "\n",
        "Looping ini biasanya digunakan ketika kita tidak tau berapa kali iterasi akan dilakukan hingga sebuah kondisi\n",
        "yang diinginkan dapat dicapai."
      ]
    },
    {
      "cell_type": "markdown",
      "metadata": {
        "id": "xMCzEDom5pGP"
      },
      "source": [
        "##Syntax of While Loop in Python"
      ]
    },
    {
      "cell_type": "code",
      "metadata": {
        "id": "369tjctrKXhD"
      },
      "source": [
        "while test_expression:\n",
        "  Body of while"
      ],
      "execution_count": null,
      "outputs": []
    },
    {
      "cell_type": "markdown",
      "metadata": {
        "id": "RiNBEk2b5t3O"
      },
      "source": [
        "Pada loop while, test expression justru dicheck pertama kali. Kemudian statement - statement di dalam\n",
        "body of while akan dieksekusi jika nilai dari test expression adalah true . Setelah satu iterasi\n",
        "dijalankan, test expression dicek kembali. Proses ini terus berlanjut hingga nilai evaluasi dari test\n",
        "expression adalah False.\n",
        "\n",
        "Pada Python, bagian body pada loop while dituliskan menggunakan indentasi.\n",
        "\n",
        "Sebagai catatan tambahan bahwa Python menginterpretasikan non-zero values sebagai True . None\n",
        "dan 0 diinterpretasikan sebagai False ."
      ]
    },
    {
      "cell_type": "markdown",
      "metadata": {
        "id": "CPrVXhX4Kwxb"
      },
      "source": [
        "##Example: Python while Loop"
      ]
    },
    {
      "cell_type": "code",
      "metadata": {
        "colab": {
          "base_uri": "https://localhost:8080/"
        },
        "id": "-XpylByqLB8W",
        "outputId": "b1736b82-030b-41a9-c46f-de18b054a613"
      },
      "source": [
        "# Program untuk menjumlahkan semua\n",
        "# bilangan asli hingga suku ke-n\n",
        "# jumlahan = 1+2+3+...+n\n",
        "\n",
        "n = 10\n",
        "\n",
        "# nilai awal penjumlahan dan iterasi\n",
        "jumlahan = 0\n",
        "i = 1\n",
        "\n",
        "while i <= n:\n",
        "  jumlahan = jumlahan + i\n",
        "  i = i+1   # update iterasi\n",
        "\n",
        "# cetak hasil penjumlahan\n",
        "print(\"jumlahan =\", jumlahan)"
      ],
      "execution_count": null,
      "outputs": [
        {
          "output_type": "stream",
          "name": "stdout",
          "text": [
            "jumlahan = 55\n"
          ]
        }
      ]
    },
    {
      "cell_type": "markdown",
      "metadata": {
        "id": "orABQpuQLrVK"
      },
      "source": [
        "Pada program di atas, test expression akan bernilai True selama nilai iterasi i kurang dari atau sama\n",
        "dengan n.\n",
        "\n",
        "Kita perlu mengupdate nilai dari variabel pencatat iterasi i agar iterasi tidak berlangsung secara terus\n",
        "menerus(infinity loop)."
      ]
    },
    {
      "cell_type": "markdown",
      "metadata": {
        "id": "5DRAx-73LxKY"
      },
      "source": [
        "##While loop with else"
      ]
    },
    {
      "cell_type": "markdown",
      "metadata": {
        "id": "tmygVeY7Lz1f"
      },
      "source": [
        "Sama dengan for loop kita juga dapat mengkombinasikan while loop dengan blok else.\n",
        "\n",
        "Bagian else akan dieksekusi jika nilai pada test expression pada pada while loop bernilai False.\n",
        "\n",
        "Perhatikan contoh berikut:"
      ]
    },
    {
      "cell_type": "code",
      "metadata": {
        "colab": {
          "base_uri": "https://localhost:8080/"
        },
        "id": "CcdEDJAfL9XC",
        "outputId": "f6c5cd04-7592-4b02-dfef-1ea58db44fd2"
      },
      "source": [
        "counter = 0\n",
        "\n",
        "while counter < 3:\n",
        "  print(\"Di dalam Loop\")\n",
        "  counter = counter + 1\n",
        "else:\n",
        "  print(\"Di dalam else\")"
      ],
      "execution_count": null,
      "outputs": [
        {
          "output_type": "stream",
          "name": "stdout",
          "text": [
            "Di dalam Loop\n",
            "Di dalam Loop\n",
            "Di dalam Loop\n",
            "Di dalam else\n"
          ]
        }
      ]
    },
    {
      "cell_type": "markdown",
      "metadata": {
        "id": "YdStIiHJMPQn"
      },
      "source": [
        "#Contoh Penggunaan Perulangan"
      ]
    },
    {
      "cell_type": "markdown",
      "metadata": {
        "id": "tmKornD0MTz5"
      },
      "source": [
        "##Contoh 1:"
      ]
    },
    {
      "cell_type": "markdown",
      "metadata": {
        "id": "FYzheZOWMdQI"
      },
      "source": [
        "Diberikan list_tagihan . Kamu diminta untuk menghitung jumlah seluruh tagihan!. Gunakan looping for\n",
        "untuk menyelesaikan tugas ini! Simpan hasilnya pada variabel total_tagihan !\n",
        "\n",
        "    list_tagihan = [50000, 75000, -150000, 125000, 300000, -50000, 200000]"
      ]
    },
    {
      "cell_type": "code",
      "metadata": {
        "colab": {
          "base_uri": "https://localhost:8080/"
        },
        "id": "0YGE3G0MMj-2",
        "outputId": "6336b9b7-0ea5-44dd-9b50-056cc26f1774"
      },
      "source": [
        "list_tagihan = [50000, 75000, -150000, 125000, 300000, -50000, 200000]\n",
        "total_tagihan = 0\n",
        "for tagihan in list_tagihan: # untuk setiap tagihan dalam list_tagihan\n",
        "  total_tagihan += tagihan # tambahkan tagihan ke total_tagihan\n",
        "print(total_tagihan)"
      ],
      "execution_count": null,
      "outputs": [
        {
          "output_type": "stream",
          "name": "stdout",
          "text": [
            "550000\n"
          ]
        }
      ]
    },
    {
      "cell_type": "markdown",
      "metadata": {
        "id": "46MJMvEEPj7g"
      },
      "source": [
        "##Contoh 2:"
      ]
    },
    {
      "cell_type": "markdown",
      "metadata": {
        "id": "hQsk8DdjPnOo"
      },
      "source": [
        "Diberikan list_tagihan . Kamu diminta untuk menghitung jumlah seluruh tagihan!. Gunakan looping for\n",
        "untuk menyelesaikan tugas ini! Simpan hasilnya pada variabel total_tagihan !\n",
        "\n",
        "    list_tagihan = [50000, 75000, -150000, 125000, 300000, -50000, 200000]\n",
        "\n",
        "Perhatikan bahwa, terdapat nilai tagihan yang negatif. Hentikan perhitungan total_tagihan jika menemukan\n",
        "nilai negatif!"
      ]
    },
    {
      "cell_type": "code",
      "metadata": {
        "colab": {
          "base_uri": "https://localhost:8080/"
        },
        "id": "J847OGdLWLNj",
        "outputId": "a4763abe-5a02-4264-d8be-21772666ecb9"
      },
      "source": [
        "list_tagihan = [50000, 75000, -150000, 125000, 300000, -50000, 200000]\n",
        "total_tagihan = 0\n",
        "for tagihan in list_tagihan:\n",
        "  if tagihan <0:\n",
        "    print(\"terdapat angka minus dalam tagihan, perhitungan dihentikan!\")\n",
        "    break\n",
        "  total_tagihan += tagihan\n",
        "print(total_tagihan)"
      ],
      "execution_count": null,
      "outputs": [
        {
          "output_type": "stream",
          "name": "stdout",
          "text": [
            "terdapat angka minus dalam tagihan, perhitungan dihentikan!\n",
            "125000\n"
          ]
        }
      ]
    },
    {
      "cell_type": "markdown",
      "metadata": {
        "id": "uV1Q4CYWW54p"
      },
      "source": [
        "##Contoh 3:"
      ]
    },
    {
      "cell_type": "markdown",
      "metadata": {
        "id": "kUVRPjJCW74B"
      },
      "source": [
        "Diberikan list_cash_flow kamu diminta untuk melakukan penghitungan total_pemasukan dan\n",
        "total_pengeluaran menggunakan looping for . Untuk nilai positif berarti adalah pemasukan dan nilai\n",
        "negatif berarti adalah pengeluaran.\n",
        "\n",
        "    list_cash_flow = [2500000, 5000000, -1000000, -2500000, 5000000, 10000000, -5000000, 7500000, 10000000, -1500000, 25000000, -2500000]"
      ]
    },
    {
      "cell_type": "code",
      "metadata": {
        "colab": {
          "base_uri": "https://localhost:8080/"
        },
        "id": "yawfBtrRXMk3",
        "outputId": "11f89660-3ced-4aae-cdeb-88d782e77344"
      },
      "source": [
        "list_cash_flow = [\n",
        "              2500000, 5000000, -1000000, -2500000, 5000000, 10000000,\n",
        "-5000000, 7500000, 10000000, -1500000, 25000000, -2500000    \n",
        "]\n",
        "total_pengeluaran, total_pemasukan = 0, 0\n",
        "for dana in list_cash_flow:\n",
        "  if dana > 0:\n",
        "    total_pemasukan += dana\n",
        "  else:\n",
        "    total_pengeluaran += dana\n",
        "total_pengeluaran *= -1\n",
        "print(total_pengeluaran)\n",
        "print(total_pemasukan)\n"
      ],
      "execution_count": null,
      "outputs": [
        {
          "output_type": "stream",
          "name": "stdout",
          "text": [
            "12500000\n",
            "65000000\n"
          ]
        }
      ]
    },
    {
      "cell_type": "markdown",
      "metadata": {
        "id": "FM0KmPdJXw_M"
      },
      "source": [
        "#Latihan"
      ]
    },
    {
      "cell_type": "markdown",
      "metadata": {
        "id": "7kZ46IE1XyjK"
      },
      "source": [
        "1. Buatlah fungsi untuk menghitung diskon suatu pembayaran belanjaan dengan input berupa dictionary\n",
        "untuk daftar harga dan dictionary untuk daftar belanjaan!"
      ]
    },
    {
      "cell_type": "markdown",
      "metadata": {
        "id": "d4g4RdHiX251"
      },
      "source": [
        "Contoh:\n",
        "\n",
        "    daftar_harga = {'telur/kg':20000, 'gula_pasir/kg':16000, 'teh/bks':4000}\n",
        "    daftar_belanjaan = {'telur':2, 'gula_pasir':5}\n",
        "    jumlah_bayar = pembayaran(daftar_harga, daftar_belanjaan)\n",
        "\n",
        "Output:\n",
        "    120000"
      ]
    },
    {
      "cell_type": "code",
      "metadata": {
        "colab": {
          "base_uri": "https://localhost:8080/"
        },
        "id": "tZyBgIhrINKs",
        "outputId": "d1b015d5-dc1b-4ff6-9cb4-01f923d328d5"
      },
      "source": [
        "daftar_harga ={'telur/kg':20000, 'gula_pasir/kg':16000, 'teh/bks':4000}\n",
        "daftar_belanjaan = {'telur':2, 'gula_pasir':5}\n",
        "\n",
        "def pembayaran(x,y):\n",
        "  jumlah = 0\n",
        "  for k in y:\n",
        "    if k==\"telur\":\n",
        "      jumlah = jumlah+(x[\"telur/kg\"]*y[k])\n",
        "    elif k==\"gula_pasir\":\n",
        "      jumlah = jumlah+(x[\"gula_pasir/kg\"]*y[k])\n",
        "    elif k==\"teh\":\n",
        "      jumlah = jumlah+(x[\"teh/bks\"]*y[k])\n",
        "    else:\n",
        "      jumlah = jumlah\n",
        "  return jumlah\n",
        "\n",
        "total_bayar = pembayaran(daftar_harga, daftar_belanjaan)\n",
        "print(total_bayar)"
      ],
      "execution_count": 2,
      "outputs": [
        {
          "output_type": "stream",
          "name": "stdout",
          "text": [
            "120000\n"
          ]
        }
      ]
    }
  ]
}