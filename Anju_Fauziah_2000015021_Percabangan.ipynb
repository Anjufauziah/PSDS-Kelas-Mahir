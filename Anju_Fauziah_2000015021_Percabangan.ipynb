{
  "nbformat": 4,
  "nbformat_minor": 0,
  "metadata": {
    "colab": {
      "name": "Anju_Fauziah_2000015021_Percabangan.ipynb",
      "provenance": []
    },
    "kernelspec": {
      "name": "python3",
      "display_name": "Python 3"
    },
    "language_info": {
      "name": "python"
    }
  },
  "cells": [
    {
      "cell_type": "markdown",
      "metadata": {
        "id": "g9IV6RBqYTxU"
      },
      "source": [
        "#Pembuka"
      ]
    },
    {
      "cell_type": "markdown",
      "metadata": {
        "id": "s1U9dDb2eM8H"
      },
      "source": [
        "Assalamu'alaikum warahmatullahi wabarakatuh. Puji syukur kehadirat Allah Subhana Wata'ala atas limpahan\n",
        "Rahmat dan HidayahNya kepada kita semua. Sholawat serta salam senantiasa tercurah limpahkan kepada\n",
        "baginda Muhammad Rasulullah Salallahualaihiwassalam.\n",
        "\n",
        "Halo para **Pejuang Data**. Selamat berjumpa di pertemuan kedua Program Training **Algoritma Machine\n",
        "Learning** Kelas Mahir.\n",
        "\n",
        "Pada pertemuan ini kamu akan belajar:\n",
        "\n",
        "\n",
        "* Percabangan/Struktur Pemilihan\n",
        "* IF Statements\n",
        "* IF ELSE Statements\n",
        "* IF ELIF ELSE Statements\n",
        "* Python Nested IF Statements\n",
        "* Latihan"
      ]
    },
    {
      "cell_type": "markdown",
      "metadata": {
        "id": "vQU43gAcfFgv"
      },
      "source": [
        "#Percabangan/Struktur Pemilihan"
      ]
    },
    {
      "cell_type": "markdown",
      "metadata": {
        "id": "Of7euD4OfMzF"
      },
      "source": [
        "Pada bagian ini, kamu akan membuat keputusan pada bahasa pemrograman Python menggunakan struktur\n",
        "percabangan atau juga sering disebut IF ELSE Statement. Pengambilan keputusan dibutuhkan ketika kamu\n",
        "akan mengeksekusi suatu kode jika sebuah kondisi tertentu dipenuhi.\n",
        "\n",
        "Statement if .. elif ... else digunakan pada bahasa Python untuk pengambilan keputusan."
      ]
    },
    {
      "cell_type": "markdown",
      "metadata": {
        "id": "8S2UZ9VcfT3H"
      },
      "source": [
        "#IF Statements"
      ]
    },
    {
      "cell_type": "markdown",
      "metadata": {
        "id": "mbG32zYFfdUN"
      },
      "source": [
        "##Python IF Statements Syntax"
      ]
    },
    {
      "cell_type": "markdown",
      "metadata": {
        "id": "Tm7Oeo1mfibt"
      },
      "source": [
        "    if test expression:\n",
        "      statement(s)"
      ]
    },
    {
      "cell_type": "markdown",
      "metadata": {
        "id": "8weDJBkdfqwE"
      },
      "source": [
        "Program akan mengevaluasi nilai dari test expression yang diberikan kemudian akan mengeksekusi\n",
        "statement(s) hanya jika test expression bernilai True.\n",
        "\n",
        "Jika test expression bernilai False , maka statement(s) tidak dieksekusi.\n",
        "\n",
        "Seperti telah disampaikan pada pertemuan sebelumnya bahwa bagian body dari statement if diindikasikan\n",
        "dengan indentasi. Statement-statement yang akan dijalankan jika test expression bernilai True ditulis\n",
        "pada baris selanjutnya dan menjorok ke dalam.\n",
        "\n",
        "Sebagai catatan tambahan bahwa Python menginterpretasikan non-zero values sebagai True . None\n",
        "dan 0 diinterpretasikan sebagai False."
      ]
    },
    {
      "cell_type": "markdown",
      "metadata": {
        "id": "w4Kr6i-mgQt9"
      },
      "source": [
        "##Python IF Statement Flowchart"
      ]
    },
    {
      "cell_type": "markdown",
      "metadata": {
        "id": "1i_yEUExgaOy"
      },
      "source": [
        "##Example: Python IF Statement"
      ]
    },
    {
      "cell_type": "code",
      "metadata": {
        "colab": {
          "base_uri": "https://localhost:8080/"
        },
        "id": "LvT4viqAYSIi",
        "outputId": "79a12930-24d3-4147-fe85-ae3aae23265a"
      },
      "source": [
        "# Jika angka adalah bilangan positif maka print \"adalah bilangan positif\"\n",
        "\n",
        "angka = 3\n",
        "if angka > 0:\n",
        "  print(angka, \"adalah bilangan positif.\")\n",
        "print(\"Pernyataan ini selalu ditampilkan.\")\n",
        "\n",
        "angka = -1\n",
        "if angka > 0:\n",
        "  print(angka, \"adalah bilangan positif.\")\n",
        "print(\"Pernyataan ini juga selalu ditampilkan.\")"
      ],
      "execution_count": null,
      "outputs": [
        {
          "output_type": "stream",
          "name": "stdout",
          "text": [
            "3 adalah bilangan positif.\n",
            "Pernyataan ini selalu ditampilkan.\n",
            "Pernyataan ini juga selalu ditampilkan.\n"
          ]
        }
      ]
    },
    {
      "cell_type": "markdown",
      "metadata": {
        "id": "-hXcoP72hdlN"
      },
      "source": [
        "Pada contoh di atas, angka > 0 adalah test expression . Bagian body dari if dieksekusi hanya jika hasil\n",
        "evaluasi dari test expression adalah bernilai True.\n",
        "\n",
        "Ketika variabel angka bernilai 3, test expression bernilai True sehingga statement di dalam bagian\n",
        "body dari if akan dieksekusi. Sedangkan ketika variabel angka bernilai -1, test expression bernilai\n",
        "False sehingga statement di dalam bagian body dari if tidak dieksekusi(di skip).\n",
        "\n",
        "Statement print() di luar blok if (yang tidak terindentasi) akan selalu dieksekusi."
      ]
    },
    {
      "cell_type": "markdown",
      "metadata": {
        "id": "vu-WWCSPhkDZ"
      },
      "source": [
        "#IF ELSE Statements"
      ]
    },
    {
      "cell_type": "markdown",
      "metadata": {
        "id": "_zSGmo1thqhD"
      },
      "source": [
        "##Python IF ELSE Statement Syntax"
      ]
    },
    {
      "cell_type": "code",
      "metadata": {
        "id": "6QxAMlgVh0ai"
      },
      "source": [
        "if test expression:\n",
        "  Body of if\n",
        "else:\n",
        "  Body of else"
      ],
      "execution_count": null,
      "outputs": []
    },
    {
      "cell_type": "markdown",
      "metadata": {
        "id": "xTGa6BF-h9Ui"
      },
      "source": [
        "Statement if ... else mengevaluasi test expression dan akan mengeksekusi bagian body of if\n",
        "hanya jika test expression bernilai True.\n",
        "\n",
        "Jika test expression bernilai False , maka bagian body of else akan dieksekusi. Indentasi juga\n",
        "digunakan pada bagian ini."
      ]
    },
    {
      "cell_type": "markdown",
      "metadata": {
        "id": "giZ2TO_diQuK"
      },
      "source": [
        "##Example: Python IF ELSE Statement"
      ]
    },
    {
      "cell_type": "code",
      "metadata": {
        "colab": {
          "base_uri": "https://localhost:8080/"
        },
        "id": "mwcy5phsiW1n",
        "outputId": "4ef69154-70a3-4715-f4a9-7229a196f86c"
      },
      "source": [
        "# Program disusun untuk mengecek apakah angka merupakan bilangan positif atau negatif\n",
        "# dan menampilkan tulisan yang sesuai\n",
        "\n",
        "angka = 3\n",
        "\n",
        "# Kamu bisa mencoba angka-angka lainnya berikut:\n",
        "# angka = -5\n",
        "# angka = 0\n",
        "\n",
        "if angka >= 0:\n",
        "  print(\"Bilangan Positif atau Nol\")\n",
        "else:\n",
        "  print(\"Bilangan Negatif\")"
      ],
      "execution_count": null,
      "outputs": [
        {
          "output_type": "stream",
          "name": "stdout",
          "text": [
            "Bilangan Positif atau Nol\n"
          ]
        }
      ]
    },
    {
      "cell_type": "markdown",
      "metadata": {
        "id": "o7YP8d-3qPZO"
      },
      "source": [
        "Pada contoh di atas, ketika angka sama dengan 3, test expression bernilai True dan bagian body\n",
        "dari if dieksekusi sedangkan bagian body dari else diabaikan.\n",
        "\n",
        "Ketika angka sama dengan -5, test expression bernilai False dan bagian body dari if diabaikan\n",
        "sedangkan bagian body dari else dieksekusi.\n",
        "\n",
        "Jika angka sama dengan 0, test expression bernilai True dan bagian body dari if dieksekusi\n",
        "sedangkan bagian body dari else diabaikan."
      ]
    },
    {
      "cell_type": "code",
      "metadata": {
        "colab": {
          "base_uri": "https://localhost:8080/"
        },
        "id": "sxtHCCvDqWOR",
        "outputId": "a5a5044d-43ab-4c51-87cb-a9229cd527e2"
      },
      "source": [
        "# Program disusun untuk mengecek apakah dua buah angka sama atau tidak\n",
        "# dan menampilkan tulisan yang sesuai\n",
        "\n",
        "a = 5\n",
        "b = 5\n",
        "\n",
        "if a==b:\n",
        "  print(\"a dan b bernilai sama\")\n",
        "else:\n",
        "  print(\"a dan b bernilai berbeda\")\n",
        "  print(\"Halo\")"
      ],
      "execution_count": null,
      "outputs": [
        {
          "output_type": "stream",
          "name": "stdout",
          "text": [
            "a dan b bernilai sama\n"
          ]
        }
      ]
    },
    {
      "cell_type": "code",
      "metadata": {
        "colab": {
          "base_uri": "https://localhost:8080/"
        },
        "id": "hjwVh1oXq5Ou",
        "outputId": "327625ff-5b35-482b-eb84-935d32324d7a"
      },
      "source": [
        "# Program disusun untuk mengecek apakah perbandingan dua buah angka\n",
        "# dan menampilkan tulisan yang sesuai\n",
        "\n",
        "# membaca dua angka\n",
        "bilangan1 = int(input(\"Masukkan bilangan pertama: \"))\n",
        "bilangan2 = int(input(\"Masukkan bilangan kedua: \"))\n",
        "\n",
        "# memilih bilangan yang lebih besar\n",
        "if bilangan1 > bilangan2:\n",
        "  bilangan_lebih_besar = bilangan1\n",
        "else:\n",
        "  bilangan_lebih_besar = bilangan2\n",
        "\n",
        "# menampilkan hasil\n",
        "print(\"Bilangan yang lebih besar adalah:\", bilangan_lebih_besar)"
      ],
      "execution_count": null,
      "outputs": [
        {
          "output_type": "stream",
          "name": "stdout",
          "text": [
            "Masukkan bilangan pertama: 10\n",
            "Masukkan bilangan kedua: 10\n",
            "Bilangan yang lebih besar adalah: 10\n"
          ]
        }
      ]
    },
    {
      "cell_type": "markdown",
      "metadata": {
        "id": "Y2IQMOh6rskv"
      },
      "source": [
        "#IF ELIF ELSE Statements"
      ]
    },
    {
      "cell_type": "markdown",
      "metadata": {
        "id": "UFyLFSYgrw6m"
      },
      "source": [
        "##Python IF ELIF ELSE Statement Syntax"
      ]
    },
    {
      "cell_type": "code",
      "metadata": {
        "id": "jHLOWVYKr3T-"
      },
      "source": [
        "if test expression:\n",
        "  Body of if\n",
        "elif test expression:\n",
        "  Body of elif\n",
        "else:\n",
        "  Body of else"
      ],
      "execution_count": null,
      "outputs": []
    },
    {
      "cell_type": "markdown",
      "metadata": {
        "id": "LUB4ZZQdsCvA"
      },
      "source": [
        "elif adalah kependekan dari else if. Perintah ini bertugas untuk mengecek beberapa test expression .\n",
        "\n",
        "Jika kondisi untuk statement if bernilai False , maka akan mengecek ke kondisi elif selanjutnya dan\n",
        "begitu seterusnya. Jika semua kondisi pada statement if dan elif bernilai False maka, bagian body\n",
        "dari else akan dieksekusi.\n",
        "\n",
        "Hanya satu blok di antara if , elif , dan else yangakan dieksekusi berdasarkan kondisi yang sesuai.\n",
        "\n",
        "Pada sebuah if blok hanya diijinkan sebuah else blok namun dapat memiliki beberapa blok elif."
      ]
    },
    {
      "cell_type": "markdown",
      "metadata": {
        "id": "C0P8p9-csUYM"
      },
      "source": [
        "##Example: Python IF ELIF ELSE Statement"
      ]
    },
    {
      "cell_type": "code",
      "metadata": {
        "colab": {
          "base_uri": "https://localhost:8080/"
        },
        "id": "bZBSy_pKsbJE",
        "outputId": "47608495-21a2-4b61-d7ac-1efc2c887034"
      },
      "source": [
        "# Program disusun untuk mengecek apakah angka merupakan bilangan positif, negatif atau nol\n",
        "# dan menampilkan tulisan yang sesuai\n",
        "\n",
        "angka = 3.4\n",
        "\n",
        "# Kamu bisa mencoba angka-angka lainnya berikut:\n",
        "# angka = 0\n",
        "# angka = -4.5\n",
        "\n",
        "if angka > 0:\n",
        "  print(\"Bilangan Positif\")\n",
        "elif num == 0:\n",
        "  print(\"Nol\")\n",
        "else:\n",
        "  print(\"Bilangan Negatif\")"
      ],
      "execution_count": null,
      "outputs": [
        {
          "output_type": "stream",
          "name": "stdout",
          "text": [
            "Bilangan Positif\n"
          ]
        }
      ]
    },
    {
      "cell_type": "markdown",
      "metadata": {
        "id": "Dm3sB9IfwUPK"
      },
      "source": [
        "Ketika variabel angka bernilai positif , maka Bilangan Positif ditampilkan.\n",
        "\n",
        "Jika angka sama dengan 0, maka Nol ditampilkan.\n",
        "\n",
        "Jika angka bernilai negatif , maka Bilangan Negatif ditampilkan."
      ]
    },
    {
      "cell_type": "code",
      "metadata": {
        "colab": {
          "base_uri": "https://localhost:8080/"
        },
        "id": "2fSxAbAMx1Oa",
        "outputId": "640869de-0498-4660-d84c-7cf0adac520c"
      },
      "source": [
        "# Statement if\n",
        "x = 4\n",
        "if x % 2 == 0: # jika sisa bagi x dengan 2 sama dengan 0\n",
        "  print(\"x habis dibagi dua\") # statemen aksi lebih menjorok ke dalam\n",
        "# Statement if ... elif ... else\n",
        "x = 7\n",
        "if x % 2 == 0: # jika sisa bagi x dengan 2 sama dengan 0\n",
        "  print(\"x habis dibagi dua\")\n",
        "elif x % 3 ==0: # jika sisa bagi x dengan 3 sama dengan 0\n",
        "  print(\"x habis dibagi tiga\")\n",
        "elif x % 5 ==0: # jika sisa bagi x dengan 5 sama dengan 0\n",
        "  print(\"x habis dibagi lima\")\n",
        "else:\n",
        "  print(\"x tidak habis dibagi dua, tiga ataupun lima\")"
      ],
      "execution_count": null,
      "outputs": [
        {
          "output_type": "stream",
          "name": "stdout",
          "text": [
            "x habis dibagi dua\n",
            "x tidak habis dibagi dua, tiga ataupun lima\n"
          ]
        }
      ]
    },
    {
      "cell_type": "markdown",
      "metadata": {
        "id": "plK75ZU4yZ9F"
      },
      "source": [
        "#Python Nested IF Statements"
      ]
    },
    {
      "cell_type": "markdown",
      "metadata": {
        "id": "QR3LMRDmyeHR"
      },
      "source": [
        "Kita dapat membuat statement if...elif...else di dalam statement if...elif...else lainnya. Ini\n",
        "disebut sebagai nesting dalam computer programming.\n",
        "\n",
        "Sejumlah pernyataan ini dapat bersarang( nesting ) di dalam satu sama lain. Indentasi adalah satu-satunya\n",
        "cara untuk mengetahui tingkat bersarang. Mereka bisa membingungkan, jadi mereka harus dihindari kecuali\n",
        "jika perlu."
      ]
    },
    {
      "cell_type": "markdown",
      "metadata": {
        "id": "eCku-aXAy3Pp"
      },
      "source": [
        "##Example: Python NESTED IF Statement"
      ]
    },
    {
      "cell_type": "code",
      "metadata": {
        "colab": {
          "base_uri": "https://localhost:8080/"
        },
        "id": "JFI6FAh5y8DW",
        "outputId": "4feeb3da-a9ef-42b0-870c-de6b23cd3d64"
      },
      "source": [
        "# Program disusun untuk mengecek apakah angka merupakan bilangan positif, negatif atau nol\n",
        "# dan menampilkan tulisan yang sesuai\n",
        "\n",
        "angka = float(input(\"Masukkan angka: \"))\n",
        "if angka >= 0:\n",
        "  if angka == 0:\n",
        "    print(\"Nol\")\n",
        "  else:\n",
        "    print(\"Bilangan Positif\")\n",
        "else:\n",
        "  print(\"Bilangan Negatif\")"
      ],
      "execution_count": null,
      "outputs": [
        {
          "output_type": "stream",
          "name": "stdout",
          "text": [
            "Masukkan angka: 9\n",
            "Bilangan Positif\n"
          ]
        }
      ]
    },
    {
      "cell_type": "markdown",
      "metadata": {
        "id": "5dddSH42zMQx"
      },
      "source": [
        "#Latihan"
      ]
    },
    {
      "cell_type": "markdown",
      "metadata": {
        "id": "mzTJLuDKzPVV"
      },
      "source": [
        "1. Buatlah sebuah fungsi \"Mahal_Diskon\" dengan ketentuan:\n",
        "  A. Input berupa data harga produk dengan tipe data numerik **Tunggal**\n",
        "  B. Kategori input adalah \"Murah\" dan \"Mahal\", kemudian diskon ada 3 kategori \"10%\", \"20%\", dan \"40%\"\n",
        "  C. Output pertama sebuah teks/string yang menyatakan \"Mahal\" atau \"Murah dan keterangan \"Kamu Dapat Diskon...\"\n",
        "  D. Output kedua adalah harga yang perlu dibayarkan"
      ]
    },
    {
      "cell_type": "code",
      "metadata": {
        "id": "6GznWwiO0RXR",
        "colab": {
          "base_uri": "https://localhost:8080/"
        },
        "outputId": "e44cc6a0-06c5-49a8-989b-c6ea2a1bad20"
      },
      "source": [
        "def Mahal_Diskon():\n",
        "  from random import choice\n",
        "  harga_produk = int(input())\n",
        "  if harga_produk > 0:\n",
        "    if harga_produk <= 450000 :\n",
        "      print('Murah dan kamu mendapatkan diskon 40%')\n",
        "      print('harga yang harus dibayarkan adalah = ',harga_produk*4/10)\n",
        "    elif harga_produk <= 350000  and harga_produk >= 400000:\n",
        "      print('Murah dan kamu mendapatkan diskon 20%')\n",
        "      print('harga yang harus dibayarkan adalah = ',harga_produk*2/10)\n",
        "    elif harga_produk <= 300000:\n",
        "      print('Murah dan kamu mendapatkan diskon 10%')\n",
        "      print('harga yang harus dibayarkan adalah = ',harga_produk*1/10)\n",
        "    elif harga_produk > 450000 :\n",
        "      print('Harga Produk lebih dari 450rb produk ini mahal')\n",
        "      diskon = [4/10,2/10,1/10]\n",
        "      Diskon = choice(diskon)\n",
        "      harga = harga_produk*Diskon\n",
        "      print('Anda mendapatkan diskon random dan harga yang harus dibayarkan adalah = ',harga)\n",
        "      \n",
        "      \n",
        "Mahal_Diskon()"
      ],
      "execution_count": 14,
      "outputs": [
        {
          "output_type": "stream",
          "name": "stdout",
          "text": [
            "1256000\n",
            "Harga Produk lebih dari 450rb produk ini mahal\n",
            "Anda mendapatkan diskon random dan harga yang harus dibayarkan adalah =  502400.0\n"
          ]
        }
      ]
    },
    {
      "cell_type": "markdown",
      "metadata": {
        "id": "eFyiGXeh0SB4"
      },
      "source": [
        "2. Diberi sebuah string, tulislah sebuah fungsi python untuk memeriksa apakah string tersebut merupakan\n",
        "palindrom atau bukan. Sebuah string dikatakan palindrom jika susunan terbalik dari string tersebut sama\n",
        "dengan string pada susunan awalnya. Misalnya, \"radar\" adalah palindrom, tetapi \"radix\" bukanlah\n",
        "palindrom."
      ]
    },
    {
      "cell_type": "code",
      "metadata": {
        "id": "kshVGR8E0YyF",
        "colab": {
          "base_uri": "https://localhost:8080/"
        },
        "outputId": "87c4fe01-49f7-4c5b-8c4d-bc5fd1d12310"
      },
      "source": [
        "a = input(\"Kata: \")\n",
        "z = len(a)\n",
        "kondisi = True\n",
        "for i in range (0, z):\n",
        "  if (kondisi):\n",
        "    b = z - (i+1)\n",
        "    if a [i] is a[b]:\n",
        "      kondisi = True\n",
        "    else:\n",
        "      kondisi = False\n",
        "if (kondisi):\n",
        "    print('Palindrom')\n",
        "else:\n",
        "    print('Bukan Palindrom')"
      ],
      "execution_count": 4,
      "outputs": [
        {
          "output_type": "stream",
          "name": "stdout",
          "text": [
            "Kata: radix\n",
            "Bukan Palindrom\n"
          ]
        }
      ]
    },
    {
      "cell_type": "markdown",
      "metadata": {
        "id": "JqQ0GxUC0Ze-"
      },
      "source": [
        "3. Buatlah fungsi untuk menghitung diskon suatu pembayaran belanjaan dengan input berupa dictionary\n",
        "untuk daftar harga dan dictionary untuk daftar belanjaan!"
      ]
    },
    {
      "cell_type": "markdown",
      "metadata": {
        "id": "TAB43_fs0eqt"
      },
      "source": [
        "Contoh:\n",
        "\n",
        "    daftar_harga = {'telur/kg:20000, 'gula_pasir/kg':16000, 'teh/bks':4000}\n",
        "    daftar_belanjaan = {'telur':2, 'gula pasir':5}\n",
        "\n",
        "    jumlah_bayar = pembayaran(daftar_harga, daftar_belanjaan)\n",
        "\n",
        "Output:\n",
        "    120000"
      ]
    },
    {
      "cell_type": "code",
      "metadata": {
        "colab": {
          "base_uri": "https://localhost:8080/"
        },
        "id": "paq70TCCNl9i",
        "outputId": "297d1d32-45cb-4371-d5d7-d08ea7bbb2bb"
      },
      "source": [
        "daftar_harga = {'telur' : 20000, 'gula_pasir' : 16000, 'teh' : 4000}\n",
        "daftar_belanjaan = {'telur' : 2, 'gula_pasir' : 5, 'teh' : 10}\n",
        "def pembayaran(daftar_harga, daftar_belanjaan):\n",
        "  jumlah = 0\n",
        "  for barang in daftar_harga:\n",
        "    for beli in daftar_belanjaan:\n",
        "      if barang == beli:\n",
        "        jumlah += daftar_harga[beli]*daftar_belanjaan[beli]\n",
        "  disc = jumlah-jumlah*0.25\n",
        "  return disc\n",
        "jumlah_bayar = pembayaran(daftar_harga, daftar_belanjaan)\n",
        "print(jumlah_bayar)"
      ],
      "execution_count": 13,
      "outputs": [
        {
          "output_type": "stream",
          "name": "stdout",
          "text": [
            "120000.0\n"
          ]
        }
      ]
    }
  ]
}